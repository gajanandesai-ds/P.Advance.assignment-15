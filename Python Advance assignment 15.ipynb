{
 "cells": [
  {
   "cell_type": "raw",
   "id": "b1379624",
   "metadata": {},
   "source": [
    "1. What are the new features added in Python 3.8 version?"
   ]
  },
  {
   "cell_type": "raw",
   "id": "d1a10aea",
   "metadata": {},
   "source": [
    "ans:Python 3.8 adds some new syntax to the language, a few minor changes to existing behaivour, and mostly a bounch of speed improvement -- mainting the tradition from the earilaer 3.7 relaese.\n"
   ]
  },
  {
   "cell_type": "code",
   "execution_count": null,
   "id": "b329e60b",
   "metadata": {},
   "outputs": [],
   "source": []
  },
  {
   "cell_type": "code",
   "execution_count": null,
   "id": "86a69238",
   "metadata": {},
   "outputs": [],
   "source": []
  },
  {
   "cell_type": "raw",
   "id": "16850b0d",
   "metadata": {},
   "source": [
    "2. What is monkey patching in Python?"
   ]
  },
  {
   "cell_type": "raw",
   "id": "16c4e971",
   "metadata": {},
   "source": [
    "In python, the term monkey patch refers to dynamic(or run-time)modifications of a class or module in python, we can actually change the behavior of code at run-time."
   ]
  },
  {
   "cell_type": "code",
   "execution_count": 1,
   "id": "13f2d574",
   "metadata": {},
   "outputs": [],
   "source": [
    "class A:\n",
    "    def func(self):\n",
    "        print(\"func()is being called\")"
   ]
  },
  {
   "cell_type": "code",
   "execution_count": 4,
   "id": "38406a94",
   "metadata": {},
   "outputs": [
    {
     "ename": "NameError",
     "evalue": "name 'm' is not defined",
     "output_type": "error",
     "traceback": [
      "\u001b[0;31m---------------------------------------------------------------------------\u001b[0m",
      "\u001b[0;31mNameError\u001b[0m                                 Traceback (most recent call last)",
      "\u001b[0;32m<ipython-input-4-0eb55f245d9c>\u001b[0m in \u001b[0;36m<module>\u001b[0;34m\u001b[0m\n\u001b[1;32m      2\u001b[0m     \u001b[0mprint\u001b[0m\u001b[0;34m(\u001b[0m\u001b[0;34m\"monkey_f() is being called\"\u001b[0m\u001b[0;34m)\u001b[0m\u001b[0;34m\u001b[0m\u001b[0;34m\u001b[0m\u001b[0m\n\u001b[1;32m      3\u001b[0m \u001b[0;34m\u001b[0m\u001b[0m\n\u001b[0;32m----> 4\u001b[0;31m \u001b[0mm\u001b[0m\u001b[0;34m.\u001b[0m\u001b[0mA\u001b[0m\u001b[0;34m.\u001b[0m\u001b[0mfunc\u001b[0m \u001b[0;34m=\u001b[0m \u001b[0mmonkey_f\u001b[0m\u001b[0;34m\u001b[0m\u001b[0;34m\u001b[0m\u001b[0m\n\u001b[0m\u001b[1;32m      5\u001b[0m \u001b[0mobj\u001b[0m \u001b[0;34m=\u001b[0m \u001b[0mm\u001b[0m\u001b[0;34m.\u001b[0m\u001b[0mA\u001b[0m\u001b[0;34m(\u001b[0m\u001b[0;34m)\u001b[0m\u001b[0;34m\u001b[0m\u001b[0;34m\u001b[0m\u001b[0m\n\u001b[1;32m      6\u001b[0m \u001b[0;34m\u001b[0m\u001b[0m\n",
      "\u001b[0;31mNameError\u001b[0m: name 'm' is not defined"
     ]
    }
   ],
   "source": [
    "def monkey_f(self):\n",
    "    print(\"monkey_f() is being called\")\n",
    "    \n",
    "m.A.func = monkey_f\n",
    "obj = m.A()\n",
    "\n",
    "obj.func()"
   ]
  },
  {
   "cell_type": "code",
   "execution_count": null,
   "id": "7e153f8c",
   "metadata": {},
   "outputs": [],
   "source": []
  },
  {
   "cell_type": "code",
   "execution_count": null,
   "id": "aebe7c80",
   "metadata": {},
   "outputs": [],
   "source": []
  },
  {
   "cell_type": "raw",
   "id": "b1c9bed9",
   "metadata": {},
   "source": [
    "3. What is the difference between a shallow copy and deep copy?"
   ]
  },
  {
   "cell_type": "raw",
   "id": "20084473",
   "metadata": {},
   "source": [
    "ans: A shallow copy constructs a new compound object and then(to the extent possible) insert refernceinto it to objects found in the original.A deep copy construct a new compound object and then, recursively insert copies into\n",
    "it of the object found in the original."
   ]
  },
  {
   "cell_type": "code",
   "execution_count": null,
   "id": "a6bd6079",
   "metadata": {},
   "outputs": [],
   "source": []
  },
  {
   "cell_type": "code",
   "execution_count": null,
   "id": "9bbaecbb",
   "metadata": {},
   "outputs": [],
   "source": []
  },
  {
   "cell_type": "raw",
   "id": "3ca45b2a",
   "metadata": {},
   "source": [
    "4. What is the maximum possible length of an identifier?"
   ]
  },
  {
   "cell_type": "raw",
   "id": "5f36e08f",
   "metadata": {},
   "source": [
    "ans: identifiers can be a combination of letters, numbers,special symbols,etc.But it must not extend 31charcters.hence, the maximum posssible length of an identifier is 31."
   ]
  },
  {
   "cell_type": "code",
   "execution_count": null,
   "id": "15109e1c",
   "metadata": {},
   "outputs": [],
   "source": []
  },
  {
   "cell_type": "code",
   "execution_count": null,
   "id": "6161b3f3",
   "metadata": {},
   "outputs": [],
   "source": []
  },
  {
   "cell_type": "raw",
   "id": "cb088252",
   "metadata": {},
   "source": [
    "5. What is generator comprehension?"
   ]
  },
  {
   "cell_type": "raw",
   "id": "806ad948",
   "metadata": {},
   "source": [
    "ans: A generator comprehension is a single-line specefication for defining a generator in python."
   ]
  },
  {
   "cell_type": "code",
   "execution_count": 5,
   "id": "20614a1f",
   "metadata": {},
   "outputs": [
    {
     "name": "stdout",
     "output_type": "stream",
     "text": [
      "<generator object <genexpr> at 0x7fe16c2737b0>\n"
     ]
    }
   ],
   "source": [
    "gen = (i**2 for i in range(100))\n",
    "print (gen)"
   ]
  },
  {
   "cell_type": "code",
   "execution_count": 7,
   "id": "db0cba42",
   "metadata": {},
   "outputs": [
    {
     "data": {
      "text/plain": [
       "328350"
      ]
     },
     "execution_count": 7,
     "metadata": {},
     "output_type": "execute_result"
    }
   ],
   "source": [
    "gen = (i**2 for i in range(100))\n",
    "sum (gen)"
   ]
  },
  {
   "cell_type": "code",
   "execution_count": 8,
   "id": "43d4cca7",
   "metadata": {},
   "outputs": [
    {
     "data": {
      "text/plain": [
       "True"
      ]
     },
     "execution_count": 8,
     "metadata": {},
     "output_type": "execute_result"
    }
   ],
   "source": [
    "gen = (i for i in range(1,11))\n",
    "5 in gen"
   ]
  },
  {
   "cell_type": "code",
   "execution_count": null,
   "id": "00628523",
   "metadata": {},
   "outputs": [],
   "source": []
  },
  {
   "cell_type": "code",
   "execution_count": 9,
   "id": "10a4da9c",
   "metadata": {},
   "outputs": [
    {
     "name": "stdout",
     "output_type": "stream",
     "text": [
      "<generator object <genexpr> at 0x7fe16c32a890>\n"
     ]
    }
   ],
   "source": [
    "gen = (i**2 for i in range(99))\n",
    "print (gen)"
   ]
  },
  {
   "cell_type": "code",
   "execution_count": 10,
   "id": "ed9a5a98",
   "metadata": {},
   "outputs": [
    {
     "data": {
      "text/plain": [
       "318549"
      ]
     },
     "execution_count": 10,
     "metadata": {},
     "output_type": "execute_result"
    }
   ],
   "source": [
    "gen = (i**2 for i in range(99))\n",
    "sum (gen)"
   ]
  },
  {
   "cell_type": "code",
   "execution_count": 14,
   "id": "34008157",
   "metadata": {},
   "outputs": [
    {
     "data": {
      "text/plain": [
       "False"
      ]
     },
     "execution_count": 14,
     "metadata": {},
     "output_type": "execute_result"
    }
   ],
   "source": [
    "gen = (i for i in range(19,101))\n",
    "5 in gen"
   ]
  },
  {
   "cell_type": "code",
   "execution_count": null,
   "id": "0969915f",
   "metadata": {},
   "outputs": [],
   "source": []
  }
 ],
 "metadata": {
  "kernelspec": {
   "display_name": "Python 3",
   "language": "python",
   "name": "python3"
  },
  "language_info": {
   "codemirror_mode": {
    "name": "ipython",
    "version": 3
   },
   "file_extension": ".py",
   "mimetype": "text/x-python",
   "name": "python",
   "nbconvert_exporter": "python",
   "pygments_lexer": "ipython3",
   "version": "3.8.8"
  }
 },
 "nbformat": 4,
 "nbformat_minor": 5
}
